{
 "cells": [
  {
   "cell_type": "code",
   "execution_count": 1,
   "metadata": {},
   "outputs": [
    {
     "name": "stdout",
     "output_type": "stream",
     "text": [
      "Pandas version:{pd.__version__}\n"
     ]
    }
   ],
   "source": [
    "import pandas as pd\n",
    "#https://pandas.pydata.org/docs/\n",
    "\n",
    "print(r'Pandas version:{pd.__version__}')\n",
    "\n",
    "import os  \n",
    "#https://docs.python.org/3/library/os.html#os-file-dir\n",
    "\n",
    "# from pathlib import Path\n",
    "# function from Pathlib doesn' have a version\n",
    "# https://docs.python.org/3/library/pathlib.html"
   ]
  },
  {
   "cell_type": "code",
   "execution_count": 2,
   "metadata": {},
   "outputs": [
    {
     "data": {
      "text/plain": [
       "'Current directory is /Users/curtisoneal/Documents/DataScience/CognitiveAI_Badges_and_Udemy_Training_Notes/CognitiveAI_Badges_and_Udemy_Training_Notes'"
      ]
     },
     "metadata": {},
     "output_type": "display_data"
    },
    {
     "data": {
      "text/plain": [
       "'Current directory is /Applications/TOSDI-8.0.1/studio/workspace/udemy_data/in'"
      ]
     },
     "metadata": {},
     "output_type": "display_data"
    }
   ],
   "source": [
    "display(f'Current directory is {os.getcwd()}')\n",
    "\n",
    "#NOTE os.chdir('') change current working directory\n",
    "new_path = os.fspath('/Applications/TOSDI-8.0.1/studio/workspace/udemy_data/in')\n",
    "os.chdir('/Applications/TOSDI-8.0.1/studio/workspace/udemy_data/in')\n",
    "\n",
    "display( f'Current directory is {os.getcwd()}')"
   ]
  },
  {
   "cell_type": "code",
   "execution_count": 3,
   "metadata": {},
   "outputs": [
    {
     "data": {
      "text/plain": [
       "'Setting change done.'"
      ]
     },
     "metadata": {},
     "output_type": "display_data"
    }
   ],
   "source": [
    "pd.set_option(\"display.max_rows\", None, \"display.max_columns\", None)\n",
    "display('Setting change done.')"
   ]
  },
  {
   "cell_type": "code",
   "execution_count": 4,
   "metadata": {},
   "outputs": [
    {
     "name": "stdout",
     "output_type": "stream",
     "text": [
      "Files in directory:\n",
      "address1.csv       address6.csv.copy  film_actor.xml     schemaCheck.csv\r\n",
      "address2.csv       address7.csv       ipRanges.txt       servers.txt\r\n",
      "address3.csv       address8.csv       labels.txt         sqlite.db\r\n",
      "address4.csv       address9.csv       meier.csv          store.json\r\n",
      "address5.csv       country.json       pivot.csv\r\n",
      "address6.csv       customerData.csv   sales.csv\r\n"
     ]
    }
   ],
   "source": [
    "print('Files in directory:')\n",
    "%ls"
   ]
  },
  {
   "cell_type": "code",
   "execution_count": 5,
   "metadata": {},
   "outputs": [],
   "source": [
    "delim = ';'"
   ]
  },
  {
   "cell_type": "code",
   "execution_count": 6,
   "metadata": {},
   "outputs": [
    {
     "data": {
      "text/html": [
       "<div>\n",
       "<style scoped>\n",
       "    .dataframe tbody tr th:only-of-type {\n",
       "        vertical-align: middle;\n",
       "    }\n",
       "\n",
       "    .dataframe tbody tr th {\n",
       "        vertical-align: top;\n",
       "    }\n",
       "\n",
       "    .dataframe thead th {\n",
       "        text-align: right;\n",
       "    }\n",
       "</style>\n",
       "<table border=\"1\" class=\"dataframe\">\n",
       "  <thead>\n",
       "    <tr style=\"text-align: right;\">\n",
       "      <th></th>\n",
       "      <th>address_id</th>\n",
       "      <th>address</th>\n",
       "      <th>address2</th>\n",
       "      <th>district</th>\n",
       "      <th>city_id</th>\n",
       "      <th>postal_code</th>\n",
       "      <th>phone</th>\n",
       "      <th>location</th>\n",
       "      <th>last_update</th>\n",
       "    </tr>\n",
       "  </thead>\n",
       "  <tbody>\n",
       "    <tr>\n",
       "      <th>0</th>\n",
       "      <td>6</td>\n",
       "      <td>1121 Loja Avenue</td>\n",
       "      <td>NaN</td>\n",
       "      <td>California</td>\n",
       "      <td>449</td>\n",
       "      <td>17886</td>\n",
       "      <td>838635286649</td>\n",
       "      <td>[B@408d971b</td>\n",
       "      <td>25-09-2014</td>\n",
       "    </tr>\n",
       "    <tr>\n",
       "      <th>1</th>\n",
       "      <td>10</td>\n",
       "      <td>1795 Santiago de Compostela Way</td>\n",
       "      <td>NaN</td>\n",
       "      <td>Texas</td>\n",
       "      <td>295</td>\n",
       "      <td>18743</td>\n",
       "      <td>860452626434</td>\n",
       "      <td>[B@36ebc363</td>\n",
       "      <td>25-09-2014</td>\n",
       "    </tr>\n",
       "  </tbody>\n",
       "</table>\n",
       "</div>"
      ],
      "text/plain": [
       "   address_id                          address  address2    district  city_id  \\\n",
       "0           6                 1121 Loja Avenue       NaN  California      449   \n",
       "1          10  1795 Santiago de Compostela Way       NaN       Texas      295   \n",
       "\n",
       "   postal_code         phone     location last_update  \n",
       "0        17886  838635286649  [B@408d971b  25-09-2014  \n",
       "1        18743  860452626434  [B@36ebc363  25-09-2014  "
      ]
     },
     "metadata": {},
     "output_type": "display_data"
    }
   ],
   "source": [
    "df = pd.read_csv(\"address1.csv\", delimiter=delim, header='infer', dtype=None, skipinitialspace=False, skiprows=None,)\n",
    "\n",
    "# Other settings on hand if needed\n",
    "# nrows=None, na_values=None, keep_default_na=True, na_filter=True, \n",
    "# verbose=False, skip_blank_lines=True, parse_dates=None, \n",
    "# infer_datetime_format=False, keep_date_col=False, date_parser=None, \n",
    "# dayfirst=False, cache_dates=True, iterator=False, chunksize=None, \n",
    "# compression='infer', thousands=None, decimal='.', lineterminator=None, \n",
    "# quotechar='\"', quoting=0, doublequote=True, escapechar=None, \n",
    "# comment=None, encoding=None, encoding_errors='strict', \n",
    "# dialect=None, error_bad_lines=None, warn_bad_lines=None, \n",
    "# on_bad_lines=None, delim_whitespace=False, low_memory=True, m\n",
    "# emory_map=False, float_precision=None)\n",
    "\n",
    "display(df.head(2))"
   ]
  },
  {
   "cell_type": "code",
   "execution_count": 7,
   "metadata": {},
   "outputs": [
    {
     "data": {
      "text/plain": [
       "address_id       int64\n",
       "address         object\n",
       "address2       float64\n",
       "district        object\n",
       "city_id          int64\n",
       "postal_code      int64\n",
       "phone            int64\n",
       "location        object\n",
       "last_update     object\n",
       "dtype: object"
      ]
     },
     "metadata": {},
     "output_type": "display_data"
    },
    {
     "data": {
      "text/plain": [
       "Index(['address_id', 'address', 'address2', 'district', 'city_id',\n",
       "       'postal_code', 'phone', 'location', 'last_update'],\n",
       "      dtype='object')"
      ]
     },
     "metadata": {},
     "output_type": "display_data"
    },
    {
     "data": {
      "text/plain": [
       "(58, 9)"
      ]
     },
     "metadata": {},
     "output_type": "display_data"
    },
    {
     "name": "stdout",
     "output_type": "stream",
     "text": [
      "<class 'pandas.core.frame.DataFrame'>\n",
      "RangeIndex: 58 entries, 0 to 57\n",
      "Data columns (total 9 columns):\n",
      " #   Column       Non-Null Count  Dtype  \n",
      "---  ------       --------------  -----  \n",
      " 0   address_id   58 non-null     int64  \n",
      " 1   address      58 non-null     object \n",
      " 2   address2     0 non-null      float64\n",
      " 3   district     58 non-null     object \n",
      " 4   city_id      58 non-null     int64  \n",
      " 5   postal_code  58 non-null     int64  \n",
      " 6   phone        58 non-null     int64  \n",
      " 7   location     58 non-null     object \n",
      " 8   last_update  58 non-null     object \n",
      "dtypes: float64(1), int64(4), object(4)\n",
      "memory usage: 4.2+ KB\n"
     ]
    },
    {
     "data": {
      "text/plain": [
       "None"
      ]
     },
     "metadata": {},
     "output_type": "display_data"
    }
   ],
   "source": [
    "# optional\n",
    "display(df.dtypes)\n",
    "display(df.columns)\n",
    "display(df.shape)\n",
    "display(df.info())"
   ]
  },
  {
   "cell_type": "code",
   "execution_count": 8,
   "metadata": {},
   "outputs": [],
   "source": [
    "specific_col = 'district'"
   ]
  },
  {
   "cell_type": "code",
   "execution_count": 9,
   "metadata": {},
   "outputs": [
    {
     "data": {
      "text/plain": [
       "Index(['address_id', 'address', 'address2', 'district', 'city_id',\n",
       "       'postal_code', 'phone', 'location', 'last_update'],\n",
       "      dtype='object')"
      ]
     },
     "metadata": {},
     "output_type": "display_data"
    },
    {
     "name": "stdout",
     "output_type": "stream",
     "text": [
      "['California' 'Texas' 'Kanagawa' 'Haryana' 'Yerevan' 'Gois' 'Sucre'\n",
      " 'Shandong' 'Taka-Karpatia' 'Gelderland' 'Tennessee' 'Nyanza'\n",
      " 'Nordrhein-Westfalen' 'Ondo & Ekiti' 'Santa Catarina' 'Kitaa'\n",
      " 'Southern Tagalog' 'Karnataka' 'Fukushima' 'Osaka' 'Tamil Nadu' 'Sharja'\n",
      " 'Tabuk' 'Dhaka' 'Uttar Pradesh' 'Henan' 'Esfahan' 'Namibe' 'Ibaragi'\n",
      " 'Rio Grande do Sul' 'Zulia' 'Michoacn de Ocampo' 'Northern Mindanao'\n",
      " 'Hodeida' 'Sumy' 'Ningxia' 'Boyac' 'Lubelskie' 'Central Luzon'\n",
      " 'Volgograd' 'Nghe An' 'Ruse' 'Ishikawa' 'Vojvodina' 'Gujarat' 'Bukarest'\n",
      " 'Anzotegui' 'Buenos Aires' 'Minas Gerais' 'Fejr']\n"
     ]
    }
   ],
   "source": [
    "display(df.columns)\n",
    "degree_counts = df[specific_col].value_counts()\n",
    "degree_counts = df[specific_col].unique()\n",
    "print(degree_counts)"
   ]
  },
  {
   "cell_type": "code",
   "execution_count": 10,
   "metadata": {},
   "outputs": [
    {
     "data": {
      "text/plain": [
       "Shandong               2\n",
       "Tamil Nadu             2\n",
       "Southern Tagalog       2\n",
       "California             2\n",
       "Sumy                   2\n",
       "Texas                  2\n",
       "Kanagawa               2\n",
       "Fukushima              2\n",
       "Nordrhein-Westfalen    1\n",
       "Sucre                  1\n",
       "Michoacn de Ocampo     1\n",
       "Taka-Karpatia          1\n",
       "Gois                   1\n",
       "Esfahan                1\n",
       "Gelderland             1\n",
       "Vojvodina              1\n",
       "Volgograd              1\n",
       "Tabuk                  1\n",
       "Uttar Pradesh          1\n",
       "Northern Mindanao      1\n",
       "Nghe An                1\n",
       "Boyac                  1\n",
       "Ruse                   1\n",
       "Tennessee              1\n",
       "Santa Catarina         1\n",
       "Ibaragi                1\n",
       "Minas Gerais           1\n",
       "Yerevan                1\n",
       "Gujarat                1\n",
       "Osaka                  1\n",
       "Ningxia                1\n",
       "Namibe                 1\n",
       "Fejr                   1\n",
       "Bukarest               1\n",
       "Central Luzon          1\n",
       "Sharja                 1\n",
       "Rio Grande do Sul      1\n",
       "Dhaka                  1\n",
       "Henan                  1\n",
       "Buenos Aires           1\n",
       "Nyanza                 1\n",
       "Haryana                1\n",
       "Ondo & Ekiti           1\n",
       "Kitaa                  1\n",
       "Zulia                  1\n",
       "Hodeida                1\n",
       "Ishikawa               1\n",
       "Anzotegui              1\n",
       "Karnataka              1\n",
       "Lubelskie              1\n",
       "Name: district, dtype: int64"
      ]
     },
     "metadata": {},
     "output_type": "display_data"
    },
    {
     "data": {
      "text/plain": [
       "<AxesSubplot:>"
      ]
     },
     "execution_count": 10,
     "metadata": {},
     "output_type": "execute_result"
    },
    {
     "data": {
      "image/png": "[encoded data removed]",
      "text/plain": [
       "<Figure size 432x288 with 1 Axes>"
      ]
     },
     "metadata": {
      "needs_background": "light"
     },
     "output_type": "display_data"
    }
   ],
   "source": [
    "degree_counts = df[specific_col].value_counts()\n",
    "display(degree_counts)\n",
    "degree_counts.plot(kind='bar')"
   ]
  },
  {
   "cell_type": "code",
   "execution_count": 11,
   "metadata": {},
   "outputs": [
    {
     "data": {
      "text/plain": [
       "Shandong               2\n",
       "Tamil Nadu             2\n",
       "Southern Tagalog       2\n",
       "California             2\n",
       "Sumy                   2\n",
       "Texas                  2\n",
       "Kanagawa               2\n",
       "Fukushima              2\n",
       "Nordrhein-Westfalen    1\n",
       "Sucre                  1\n",
       "Michoacn de Ocampo     1\n",
       "Taka-Karpatia          1\n",
       "Gois                   1\n",
       "Esfahan                1\n",
       "Gelderland             1\n",
       "Vojvodina              1\n",
       "Volgograd              1\n",
       "Tabuk                  1\n",
       "Uttar Pradesh          1\n",
       "Northern Mindanao      1\n",
       "Nghe An                1\n",
       "Boyac                  1\n",
       "Ruse                   1\n",
       "Tennessee              1\n",
       "Santa Catarina         1\n",
       "Ibaragi                1\n",
       "Minas Gerais           1\n",
       "Yerevan                1\n",
       "Gujarat                1\n",
       "Osaka                  1\n",
       "Ningxia                1\n",
       "Namibe                 1\n",
       "Fejr                   1\n",
       "Bukarest               1\n",
       "Central Luzon          1\n",
       "Sharja                 1\n",
       "Rio Grande do Sul      1\n",
       "Dhaka                  1\n",
       "Henan                  1\n",
       "Buenos Aires           1\n",
       "Nyanza                 1\n",
       "Haryana                1\n",
       "Ondo & Ekiti           1\n",
       "Kitaa                  1\n",
       "Zulia                  1\n",
       "Hodeida                1\n",
       "Ishikawa               1\n",
       "Anzotegui              1\n",
       "Karnataka              1\n",
       "Lubelskie              1\n",
       "Name: district, dtype: int64"
      ]
     },
     "execution_count": 11,
     "metadata": {},
     "output_type": "execute_result"
    }
   ],
   "source": [
    "df[specific_col].value_counts()"
   ]
  },
  {
   "cell_type": "code",
   "execution_count": 15,
   "metadata": {},
   "outputs": [],
   "source": [
    "def map_function(s):\n",
    "    if s == 'Texas':\n",
    "        return 'T'\n",
    "    elif s == 'Kitaa':\n",
    "        return 'K'\n",
    "    else:\n",
    "        return s"
   ]
  },
  {
   "cell_type": "code",
   "execution_count": 16,
   "metadata": {},
   "outputs": [
    {
     "data": {
      "text/plain": [
       "T                      2\n",
       "California             2\n",
       "Sumy                   2\n",
       "Kanagawa               2\n",
       "Southern Tagalog       2\n",
       "Tamil Nadu             2\n",
       "Shandong               2\n",
       "Fukushima              2\n",
       "Bukarest               1\n",
       "Tabuk                  1\n",
       "Sucre                  1\n",
       "Michoacn de Ocampo     1\n",
       "Taka-Karpatia          1\n",
       "Gois                   1\n",
       "Esfahan                1\n",
       "Gelderland             1\n",
       "Volgograd              1\n",
       "Vojvodina              1\n",
       "Uttar Pradesh          1\n",
       "Ningxia                1\n",
       "Northern Mindanao      1\n",
       "Nghe An                1\n",
       "Boyac                  1\n",
       "Ruse                   1\n",
       "Tennessee              1\n",
       "Santa Catarina         1\n",
       "Ibaragi                1\n",
       "Nordrhein-Westfalen    1\n",
       "Gujarat                1\n",
       "Central Luzon          1\n",
       "Ondo & Ekiti           1\n",
       "Sharja                 1\n",
       "Rio Grande do Sul      1\n",
       "Dhaka                  1\n",
       "Henan                  1\n",
       "Nyanza                 1\n",
       "Karnataka              1\n",
       "Haryana                1\n",
       "Fejr                   1\n",
       "Buenos Aires           1\n",
       "Osaka                  1\n",
       "Zulia                  1\n",
       "Minas Gerais           1\n",
       "Hodeida                1\n",
       "Ishikawa               1\n",
       "K                      1\n",
       "Namibe                 1\n",
       "Yerevan                1\n",
       "Lubelskie              1\n",
       "Anzotegui              1\n",
       "Name: district, dtype: int64"
      ]
     },
     "execution_count": 16,
     "metadata": {},
     "output_type": "execute_result"
    }
   ],
   "source": [
    "# https://www.w3resource.com/pandas/dataframe/dataframe-applymap.php\n",
    "df[specific_col]= df[specific_col].apply(map_function)\n",
    "df[specific_col].value_counts()"
   ]
  },
  {
   "cell_type": "code",
   "execution_count": 14,
   "metadata": {},
   "outputs": [
    {
     "data": {
      "text/html": [
       "<div>\n",
       "<style scoped>\n",
       "    .dataframe tbody tr th:only-of-type {\n",
       "        vertical-align: middle;\n",
       "    }\n",
       "\n",
       "    .dataframe tbody tr th {\n",
       "        vertical-align: top;\n",
       "    }\n",
       "\n",
       "    .dataframe thead th {\n",
       "        text-align: right;\n",
       "    }\n",
       "</style>\n",
       "<table border=\"1\" class=\"dataframe\">\n",
       "  <thead>\n",
       "    <tr style=\"text-align: right;\">\n",
       "      <th></th>\n",
       "      <th>address_id</th>\n",
       "      <th>address</th>\n",
       "      <th>address2</th>\n",
       "      <th>district</th>\n",
       "      <th>city_id</th>\n",
       "      <th>postal_code</th>\n",
       "      <th>phone</th>\n",
       "      <th>location</th>\n",
       "      <th>last_update</th>\n",
       "    </tr>\n",
       "  </thead>\n",
       "  <tbody>\n",
       "    <tr>\n",
       "      <th>0</th>\n",
       "      <td>6</td>\n",
       "      <td>1121 Loja Avenue</td>\n",
       "      <td>NaN</td>\n",
       "      <td>California</td>\n",
       "      <td>449</td>\n",
       "      <td>17886</td>\n",
       "      <td>838635286649</td>\n",
       "      <td>[B@408d971b</td>\n",
       "      <td>25-09-2014</td>\n",
       "    </tr>\n",
       "    <tr>\n",
       "      <th>1</th>\n",
       "      <td>10</td>\n",
       "      <td>1795 Santiago de Compostela Way</td>\n",
       "      <td>NaN</td>\n",
       "      <td>T</td>\n",
       "      <td>295</td>\n",
       "      <td>18743</td>\n",
       "      <td>860452626434</td>\n",
       "      <td>[B@36ebc363</td>\n",
       "      <td>25-09-2014</td>\n",
       "    </tr>\n",
       "    <tr>\n",
       "      <th>2</th>\n",
       "      <td>15</td>\n",
       "      <td>1542 Tarlac Parkway</td>\n",
       "      <td>NaN</td>\n",
       "      <td>Kanagawa</td>\n",
       "      <td>440</td>\n",
       "      <td>1027</td>\n",
       "      <td>635297277345</td>\n",
       "      <td>[B@45752059</td>\n",
       "      <td>25-09-2014</td>\n",
       "    </tr>\n",
       "    <tr>\n",
       "      <th>3</th>\n",
       "      <td>16</td>\n",
       "      <td>808 Bhopal Manor</td>\n",
       "      <td>NaN</td>\n",
       "      <td>Haryana</td>\n",
       "      <td>582</td>\n",
       "      <td>10672</td>\n",
       "      <td>465887807014</td>\n",
       "      <td>[B@34e9fd99</td>\n",
       "      <td>25-09-2014</td>\n",
       "    </tr>\n",
       "    <tr>\n",
       "      <th>4</th>\n",
       "      <td>18</td>\n",
       "      <td>770 Bydgoszcz Avenue</td>\n",
       "      <td>NaN</td>\n",
       "      <td>California</td>\n",
       "      <td>120</td>\n",
       "      <td>16266</td>\n",
       "      <td>517338314235</td>\n",
       "      <td>[B@3c41ed1d</td>\n",
       "      <td>25-09-2014</td>\n",
       "    </tr>\n",
       "  </tbody>\n",
       "</table>\n",
       "</div>"
      ],
      "text/plain": [
       "   address_id                          address  address2    district  city_id  \\\n",
       "0           6                 1121 Loja Avenue       NaN  California      449   \n",
       "1          10  1795 Santiago de Compostela Way       NaN           T      295   \n",
       "2          15              1542 Tarlac Parkway       NaN    Kanagawa      440   \n",
       "3          16                 808 Bhopal Manor       NaN     Haryana      582   \n",
       "4          18             770 Bydgoszcz Avenue       NaN  California      120   \n",
       "\n",
       "   postal_code         phone     location last_update  \n",
       "0        17886  838635286649  [B@408d971b  25-09-2014  \n",
       "1        18743  860452626434  [B@36ebc363  25-09-2014  \n",
       "2         1027  635297277345  [B@45752059  25-09-2014  \n",
       "3        10672  465887807014  [B@34e9fd99  25-09-2014  \n",
       "4        16266  517338314235  [B@3c41ed1d  25-09-2014  "
      ]
     },
     "execution_count": 14,
     "metadata": {},
     "output_type": "execute_result"
    }
   ],
   "source": [
    "df.head(5)"
   ]
  },
  {
   "cell_type": "code",
   "execution_count": null,
   "metadata": {},
   "outputs": [],
   "source": []
  }
 ],
 "metadata": {
  "kernelspec": {
   "display_name": "Python 3",
   "language": "python",
   "name": "python3"
  },
  "language_info": {
   "codemirror_mode": {
    "name": "ipython",
    "version": 3
   },
   "file_extension": ".py",
   "mimetype": "text/x-python",
   "name": "python",
   "nbconvert_exporter": "python",
   "pygments_lexer": "ipython3",
   "version": "3.8.5"
  }
 },
 "nbformat": 4,
 "nbformat_minor": 4
}
